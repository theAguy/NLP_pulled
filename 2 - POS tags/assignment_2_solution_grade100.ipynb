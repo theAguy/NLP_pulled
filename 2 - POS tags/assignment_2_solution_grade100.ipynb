{
  "nbformat": 4,
  "nbformat_minor": 0,
  "metadata": {
    "colab": {
      "name": "NLP HW2 - 204502926_311132468_304997067",
      "provenance": [],
      "collapsed_sections": []
    },
    "kernelspec": {
      "name": "python3",
      "display_name": "Python 3"
    }
  },
  "cells": [
    {
      "cell_type": "markdown",
      "metadata": {
        "id": "lhakH2wJt1Wz"
      },
      "source": [
        "#Students:\n",
        "Ofir Nesher - 204502926\n",
        "\n",
        "Yuval Katz - 311132468\n",
        "\n",
        "Ofer Gross - 304997067\n",
        "\n",
        "https://colab.research.google.com/drive/1Lnixj_SlTu1S-ihwgpmmt-VTIJDhjYgG"
      ]
    },
    {
      "cell_type": "markdown",
      "metadata": {
        "id": "n0zB2BpE6DhW"
      },
      "source": [
        "# Assignment 2\n",
        "\n",
        "This assignment is about training and evaluating a POS tagger with some real data. The dataset is available through the Universal Dependencies (https://universaldependencies.org/) (UD) project. To get to know the project, please visit https://universaldependencies.org/introduction.html)"
      ]
    },
    {
      "cell_type": "code",
      "metadata": {
        "colab": {
          "base_uri": "https://localhost:8080/"
        },
        "id": "iRm7zcfq56HF",
        "outputId": "92a975f0-970f-47cc-8654-620431edd356"
      },
      "source": [
        "import numpy as np\n",
        "import operator\n",
        "import nltk\n",
        "import pandas as pd\n",
        "\n",
        "!pip install conllutils\n",
        "import conllutils\n",
        "\n",
        "# Ofir added:\n",
        "!pip install conll-df\n",
        "from conll_df import conll_df # https://github.com/interrogator/conll-df\n",
        "###"
      ],
      "execution_count": null,
      "outputs": [
        {
          "output_type": "stream",
          "text": [
            "Requirement already satisfied: conllutils in /usr/local/lib/python3.7/dist-packages (1.1.4)\n",
            "Requirement already satisfied: numpy in /usr/local/lib/python3.7/dist-packages (from conllutils) (1.19.5)\n",
            "Requirement already satisfied: conll-df in /usr/local/lib/python3.7/dist-packages (0.0.4)\n",
            "Requirement already satisfied: pandas>=0.19.2 in /usr/local/lib/python3.7/dist-packages (from conll-df) (1.1.5)\n",
            "Requirement already satisfied: python-dateutil>=2.7.3 in /usr/local/lib/python3.7/dist-packages (from pandas>=0.19.2->conll-df) (2.8.1)\n",
            "Requirement already satisfied: numpy>=1.15.4 in /usr/local/lib/python3.7/dist-packages (from pandas>=0.19.2->conll-df) (1.19.5)\n",
            "Requirement already satisfied: pytz>=2017.2 in /usr/local/lib/python3.7/dist-packages (from pandas>=0.19.2->conll-df) (2018.9)\n",
            "Requirement already satisfied: six>=1.5 in /usr/local/lib/python3.7/dist-packages (from python-dateutil>=2.7.3->pandas>=0.19.2->conll-df) (1.15.0)\n"
          ],
          "name": "stdout"
        }
      ]
    },
    {
      "cell_type": "markdown",
      "metadata": {
        "id": "UH-Xvqip6Teu"
      },
      "source": [
        "---\n",
        "**Part 1** (getting the data)\n",
        "\n",
        "You can download the dataset files directly from the UD website, but it will let you only download all the languages in one compressed file. In this assignment you will be working with th GUM dataset, which you can download directly from:\n",
        "https://github.com/UniversalDependencies/UD_English-GUM.\n",
        "Please download it to your colab machine.\n",
        "\n"
      ]
    },
    {
      "cell_type": "code",
      "metadata": {
        "id": "nsZsyTVC6Sw0",
        "colab": {
          "base_uri": "https://localhost:8080/"
        },
        "outputId": "536755a8-0de4-4e11-93ca-4cb1cdaa2257"
      },
      "source": [
        "!git clone https://github.com/UniversalDependencies/UD_English-GUM\n",
        "%cd /content/UD_English-GUM/\n",
        "!git checkout 2c8b062269f2d2d3d62405c82d8c25cf24f705dd\n",
        "%cd .."
      ],
      "execution_count": null,
      "outputs": [
        {
          "output_type": "stream",
          "text": [
            "fatal: destination path 'UD_English-GUM' already exists and is not an empty directory.\n",
            "/content/UD_English-GUM\n",
            "Note: checking out '2c8b062269f2d2d3d62405c82d8c25cf24f705dd'.\n",
            "\n",
            "You are in 'detached HEAD' state. You can look around, make experimental\n",
            "changes and commit them, and you can discard any commits you make in this\n",
            "state without impacting any branches by performing another checkout.\n",
            "\n",
            "If you want to create a new branch to retain commits you create, you may\n",
            "do so (now or later) by using -b with the checkout command again. Example:\n",
            "\n",
            "  git checkout -b <new-branch-name>\n",
            "\n",
            "HEAD is now at 2c8b062 Updated statistics.\n",
            "/content\n"
          ],
          "name": "stdout"
        }
      ]
    },
    {
      "cell_type": "markdown",
      "metadata": {
        "id": "CZZGOtoteWHz"
      },
      "source": [
        "We will use the (train/dev/test) files:\n",
        "\n",
        "UD_English-GUM/en_gum-ud-train.conllu\n",
        "\n",
        "UD_English-GUM/en_gum-ud-dev.conllu\n",
        "\n",
        "UD_English-GUM/en_gum-ud-test.conllu\n",
        "\n",
        "They are all formatted in the conllu format. You may read about it [here](https://universaldependencies.org/format.html). There is a utility library **conllutils**, which can help you read the data into the memory. It has already been installed and imported above.\n",
        "\n",
        "You should write a code that reads the three datasets into memory. You may choose the data structure by yourself. As you can see, every word is represented by a line, with columns representing specific features. We are only interested in the first and fourth columns, corresponding to the word and its POS tag."
      ]
    },
    {
      "cell_type": "code",
      "metadata": {
        "id": "v7A0-DjWg2JW"
      },
      "source": [
        "FOLDER = 'UD_English-GUM'\n",
        "WORD = 'w'\n",
        "POS = 'x'\n",
        "\n",
        "train_file = f'{FOLDER}/en_gum-ud-train.conllu'\n",
        "test_file = f'{FOLDER}/en_gum-ud-test.conllu'\n",
        "dev_file = f'{FOLDER}/en_gum-ud-dev.conllu'\n",
        "\n",
        "train_df = conll_df(train_file, file_index=False)[[WORD, POS]] # the word and the POS (Part-Of-Speech) tag\n",
        "test_df = conll_df(test_file, file_index=False)[[WORD, POS]]\n",
        "dev_df = conll_df(dev_file, file_index=False)[[WORD, POS]]"
      ],
      "execution_count": null,
      "outputs": []
    },
    {
      "cell_type": "code",
      "metadata": {
        "colab": {
          "base_uri": "https://localhost:8080/",
          "height": 431
        },
        "id": "xzrHcYe_hXOv",
        "outputId": "4e4ae01a-9613-44eb-e451-769988893478"
      },
      "source": [
        "dev_df"
      ],
      "execution_count": null,
      "outputs": [
        {
          "output_type": "execute_result",
          "data": {
            "text/html": [
              "<div>\n",
              "<style scoped>\n",
              "    .dataframe tbody tr th:only-of-type {\n",
              "        vertical-align: middle;\n",
              "    }\n",
              "\n",
              "    .dataframe tbody tr th {\n",
              "        vertical-align: top;\n",
              "    }\n",
              "\n",
              "    .dataframe thead th {\n",
              "        text-align: right;\n",
              "    }\n",
              "</style>\n",
              "<table border=\"1\" class=\"dataframe\">\n",
              "  <thead>\n",
              "    <tr style=\"text-align: right;\">\n",
              "      <th></th>\n",
              "      <th></th>\n",
              "      <th>w</th>\n",
              "      <th>x</th>\n",
              "    </tr>\n",
              "    <tr>\n",
              "      <th>s</th>\n",
              "      <th>i</th>\n",
              "      <th></th>\n",
              "      <th></th>\n",
              "    </tr>\n",
              "  </thead>\n",
              "  <tbody>\n",
              "    <tr>\n",
              "      <th>1</th>\n",
              "      <th>1</th>\n",
              "      <td>Introduction</td>\n",
              "      <td>NOUN</td>\n",
              "    </tr>\n",
              "    <tr>\n",
              "      <th rowspan=\"4\" valign=\"top\">2</th>\n",
              "      <th>1</th>\n",
              "      <td>Research</td>\n",
              "      <td>NOUN</td>\n",
              "    </tr>\n",
              "    <tr>\n",
              "      <th>2</th>\n",
              "      <td>on</td>\n",
              "      <td>ADP</td>\n",
              "    </tr>\n",
              "    <tr>\n",
              "      <th>3</th>\n",
              "      <td>adult-learned</td>\n",
              "      <td>ADJ</td>\n",
              "    </tr>\n",
              "    <tr>\n",
              "      <th>4</th>\n",
              "      <td>second</td>\n",
              "      <td>ADJ</td>\n",
              "    </tr>\n",
              "    <tr>\n",
              "      <th>...</th>\n",
              "      <th>...</th>\n",
              "      <td>...</td>\n",
              "      <td>...</td>\n",
              "    </tr>\n",
              "    <tr>\n",
              "      <th rowspan=\"5\" valign=\"top\">784</th>\n",
              "      <th>3</th>\n",
              "      <td>or</td>\n",
              "      <td>CCONJ</td>\n",
              "    </tr>\n",
              "    <tr>\n",
              "      <th>4</th>\n",
              "      <td>strainer</td>\n",
              "      <td>NOUN</td>\n",
              "    </tr>\n",
              "    <tr>\n",
              "      <th>5</th>\n",
              "      <td>to</td>\n",
              "      <td>PART</td>\n",
              "    </tr>\n",
              "    <tr>\n",
              "      <th>6</th>\n",
              "      <td>hold</td>\n",
              "      <td>VERB</td>\n",
              "    </tr>\n",
              "    <tr>\n",
              "      <th>7</th>\n",
              "      <td>filter</td>\n",
              "      <td>NOUN</td>\n",
              "    </tr>\n",
              "  </tbody>\n",
              "</table>\n",
              "<p>15598 rows × 2 columns</p>\n",
              "</div>"
            ],
            "text/plain": [
              "                   w      x\n",
              "s   i                      \n",
              "1   1   Introduction   NOUN\n",
              "2   1       Research   NOUN\n",
              "    2             on    ADP\n",
              "    3  adult-learned    ADJ\n",
              "    4         second    ADJ\n",
              "...              ...    ...\n",
              "784 3             or  CCONJ\n",
              "    4       strainer   NOUN\n",
              "    5             to   PART\n",
              "    6           hold   VERB\n",
              "    7         filter   NOUN\n",
              "\n",
              "[15598 rows x 2 columns]"
            ]
          },
          "metadata": {
            "tags": []
          },
          "execution_count": 22
        }
      ]
    },
    {
      "cell_type": "code",
      "metadata": {
        "colab": {
          "base_uri": "https://localhost:8080/"
        },
        "id": "ucslojtbxH9M",
        "outputId": "b3265b77-19e9-4753-ad45-c4ce31cafa80"
      },
      "source": [
        "print(train_df.head(10), '\\n')\n",
        "print('=========')\n",
        "print(test_df.head(10), '\\n')\n",
        "print('=========')\n",
        "print(dev_df.head(10))"
      ],
      "execution_count": null,
      "outputs": [
        {
          "output_type": "stream",
          "text": [
            "                w      x\n",
            "s i                     \n",
            "1 1     Aesthetic    ADJ\n",
            "  2  Appreciation   NOUN\n",
            "  3           and  CCONJ\n",
            "  4       Spanish    ADJ\n",
            "  5           Art   NOUN\n",
            "  6             :  PUNCT\n",
            "2 1      Insights   NOUN\n",
            "  2          from    ADP\n",
            "  3  Eye-Tracking   NOUN\n",
            "3 1        Claire  PROPN \n",
            "\n",
            "=========\n",
            "                   w      x\n",
            "s i                        \n",
            "1 1              The    DET\n",
            "  2       prevalence   NOUN\n",
            "  3               of    ADP\n",
            "  4   discrimination   NOUN\n",
            "  5           across    ADP\n",
            "  6           racial    ADJ\n",
            "  7           groups   NOUN\n",
            "  8               in    ADP\n",
            "  9     contemporary    ADJ\n",
            "  10         America  PROPN \n",
            "\n",
            "=========\n",
            "                 w      x\n",
            "s i                      \n",
            "1 1   Introduction   NOUN\n",
            "2 1       Research   NOUN\n",
            "  2             on    ADP\n",
            "  3  adult-learned    ADJ\n",
            "  4         second    ADJ\n",
            "  5       language   NOUN\n",
            "  6              (  PUNCT\n",
            "  7             L2   NOUN\n",
            "  8              )  PUNCT\n",
            "  9            has    AUX\n"
          ],
          "name": "stdout"
        }
      ]
    },
    {
      "cell_type": "markdown",
      "metadata": {
        "id": "wCIzn_mdzOCl"
      },
      "source": [
        "**This is an example of how a sentence in the test file looks**:\n",
        "\n",
        "![image.png](data:image/png;base64,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)"
      ]
    },
    {
      "cell_type": "markdown",
      "metadata": {
        "id": "q0Z9BMNM7EP3"
      },
      "source": [
        "---\n",
        "**Part 2**\n",
        "\n",
        "Write a class **simple_tagger**, with methods *train* and *evaluate*. The method *train* receives the data as a list of sentences, and use it for training the tagger. In this case, it should learn a simple dictionary that maps words to tags, defined as the most frequent tag for every word (in case there is more than one most frequent tag, you may select one of them randomly). The dictionary should be stored as a class member for evaluation.\n",
        "\n",
        "The method *evaluate* receives the data as a list of sentences, and use it to evaluate the tagger performance. Specifically, you should calculate the word and sentence level accuracy.\n",
        "The evaluation process is simply going word by word, querying the dictionary (created by the train method) for each word’s tag and compare it to the true tag of that word. The word-level accuracy is the number of successes divided by the number of words. For OOV (out of vocabulary, or unknown) words, the tagger should assign the most frequent tag in the entire training set (i.e., the mode). The function should return the two numbers: word level accuracy and sentence level accuracy."
      ]
    },
    {
      "cell_type": "code",
      "metadata": {
        "id": "HIJro152dUv0"
      },
      "source": [
        "# helper functions\n",
        "\n",
        "def get_list_of_sentences(df):\n",
        "    number_of_sentences = df[WORD].keys()[-1][0] # get the last sentence (s column) value === number of sentences in df\n",
        "    sentences = [df.loc[(i)][WORD].str.cat(sep=' ') for i in range(1, number_of_sentences + 1)]\n",
        "    return sentences\n",
        "\n",
        "\n",
        "def get_all_unique_words(df):\n",
        "    return df[WORD].values.unique()\n",
        "\n",
        "\n",
        "def get_most_frequent_tag_per_word(df):\n",
        "    words_dict = dict(zip(df.w, df.x)) # this sets each word's value as as the most RECENT POS tag seen in data!\n",
        "\n",
        "    # therefore, we should override each word's value by its MOST FREQUENT POS tag:\n",
        "    for word, tag in words_dict.items():\n",
        "        words_dict[word] = (df[df[WORD] == word][POS].values.mode()[0])\n",
        "\n",
        "    return words_dict\n",
        "\n",
        "\n",
        "def get_most_frequent_tag_in_data(df):\n",
        "    # the \"mode\" of a list is the most likely value to appear (most frequent)\n",
        "    return df[POS].values.mode()[0]"
      ],
      "execution_count": null,
      "outputs": []
    },
    {
      "cell_type": "code",
      "metadata": {
        "id": "MtivZLBH7dXq"
      },
      "source": [
        "class simple_tagger:\n",
        "    def __init__(self):\n",
        "        self.dictionary = {} # \"The dictionary should be stored as a class member for evaluation\"\n",
        "        self.most_frequent_tag = None # For OOV (out of vocabulary, or unknown) words, the tagger should assign the most frequent tag in the entire training set (i.e., the mode)\n",
        "\n",
        "\n",
        "    def train(self, data):\n",
        "        self.dictionary = get_most_frequent_tag_per_word(data)\n",
        "        self.most_frequent_tag = get_most_frequent_tag_in_data(data)\n",
        "\n",
        "\n",
        "    def evaluate(self, data):\n",
        "        total_words_hits = 0\n",
        "        sentence_hits = 0 # number of sentences in which all words are correctly classified\n",
        "        number_of_words_with_duplicates = len(data[WORD])\n",
        "        sentences = get_list_of_sentences(data)\n",
        "        \n",
        "        for i, sentence in enumerate(sentences, 1): # index starts at 1 because that's how the dataframe works\n",
        "            # check every word and sentence's accuracy\n",
        "            sentence_in_df = data.loc[(i)]\n",
        "            words = sentence.split()\n",
        "            words_hits = 0\n",
        "\n",
        "            for word in words:\n",
        "                actual_tag = sentence_in_df[sentence_in_df[WORD] == word][POS].values[0]\n",
        "                \n",
        "                if word in self.dictionary:\n",
        "                    predicted_tag = self.dictionary[word]\n",
        "                else:\n",
        "                    predicted_tag = self.most_frequent_tag\n",
        "                \n",
        "                if actual_tag == predicted_tag:\n",
        "                    words_hits += 1\n",
        "\n",
        "            total_words_hits += words_hits\n",
        "\n",
        "            if words_hits == len(words):\n",
        "                sentence_hits += 1\n",
        "\n",
        "        word_level_accuracy = round(total_words_hits / number_of_words_with_duplicates * 100, 4)\n",
        "        sentence_level_accuracy = round(sentence_hits / len(sentences) * 100, 4)\n",
        "        \n",
        "        return word_level_accuracy, sentence_level_accuracy"
      ],
      "execution_count": null,
      "outputs": []
    },
    {
      "cell_type": "code",
      "metadata": {
        "id": "XUSaJ0Ix_ZoC"
      },
      "source": [
        "tagger = simple_tagger()\n",
        "tagger.train(train_df)\n",
        "\n",
        "# https://piazza.com/class/klxc3m1tzqz2o8?cid=40 - \"You should evaluate on the test and dev datasets separately. The train file is for training only\"\n",
        "simple_tagger_word_level_accuracy_train, simple_tagger_sentence_level_accuracy_train = tagger.evaluate(train_df)\n",
        "simple_tagger_word_level_accuracy_test, simple_tagger_sentence_level_accuracy_test = tagger.evaluate(test_df)\n",
        "simple_tagger_word_level_accuracy_dev, simple_tagger_sentence_level_accuracy_dev = tagger.evaluate(dev_df)"
      ],
      "execution_count": null,
      "outputs": []
    },
    {
      "cell_type": "code",
      "metadata": {
        "colab": {
          "base_uri": "https://localhost:8080/"
        },
        "id": "WtnQkYkcKXu3",
        "outputId": "c6ab83d9-45fb-48bf-d70a-f8216f070732"
      },
      "source": [
        "print(f'*train* data: word accuracy = {simple_tagger_word_level_accuracy_train} %, sentence accuracy = {simple_tagger_sentence_level_accuracy_train} %')\n",
        "print(f'*test* data: word accuracy = {simple_tagger_word_level_accuracy_test} %, sentence accuracy = {simple_tagger_sentence_level_accuracy_test} %')\n",
        "print(f'*dev* data: word accuracy = {simple_tagger_word_level_accuracy_dev} %, sentence accuracy = {simple_tagger_sentence_level_accuracy_dev} %')"
      ],
      "execution_count": null,
      "outputs": [
        {
          "output_type": "stream",
          "text": [
            "*train* data: word accuracy = 93.98 %, sentence accuracy = 41.4509 %\n",
            "*test* data: word accuracy = 84.6038 %, sentence accuracy = 19.1011 %\n",
            "*dev* data: word accuracy = 85.652 %, sentence accuracy = 15.8163 %\n"
          ],
          "name": "stdout"
        }
      ]
    },
    {
      "cell_type": "markdown",
      "metadata": {
        "id": "etK9iZIq8i0X"
      },
      "source": [
        "---\n",
        "**Part 3**\n",
        "\n",
        "Similar to part 2, write the class hmm_tagger, which implements HMM tagging. The method *train* should build the matrices A, B and Pi, from the data as discussed in class. The method *evaluate* should find the best tag sequence for every input sentence using he Viterbi decoding algorithm, and then calculate the word and sentence level accuracy using the gold-standard tags. You should implement the Viterbi algorithm in the next block and call it from your class.\n",
        "\n",
        "Additional guidance:\n",
        "1. The matrix B represents the emissions probabilities. Since B is a matrix, you should build a dictionary that maps every unique word in the corpus to a serial numeric id (starting with 0). This way columns in B represents word ids.\n",
        "2. During the evaluation, you should first convert each word into it’s index and then create the observation array to be given to Viterbi, as a list of ids. OOV words should be assigned with a random tag. To make sure Viterbi works appropriately, you can simply break the sentence into multiple segments every time you see an OOV word, and decode every segment individually using Viterbi."
      ]
    },
    {
      "cell_type": "code",
      "metadata": {
        "id": "9rZW8DmDMg2P"
      },
      "source": [
        "def update_A(A, i, currentSentenceTags):\n",
        "    currentTag = currentSentenceTags[i]\n",
        "    previousTag = currentSentenceTags[i-1]\n",
        "    A.loc[previousTag, currentTag] +=1\n",
        "\n",
        "\n",
        "def update_B(B, currentSentenceWords, currentSentenceTags):\n",
        "    for word, tag in zip(currentSentenceWords, currentSentenceTags):\n",
        "        B.loc[tag, word]+=1\n",
        "\n",
        "\n",
        "def updatePi(Pi, currentTag):\n",
        "    Pi[currentTag] +=1"
      ],
      "execution_count": null,
      "outputs": []
    },
    {
      "cell_type": "code",
      "metadata": {
        "id": "jU8z-ItaFbbD"
      },
      "source": [
        "def calc_A_B_Pi(data):\n",
        "  number_of_sentences = data[WORD].keys()[-1][0]\n",
        "  uniqueTags = set(data[POS])\n",
        "  uniqueWords = set(data[WORD])\n",
        "\n",
        "  # numOfTagsOccuresDict = dict.fromkeys(list(uniqueTags),0)\n",
        "  A = pd.DataFrame(index=uniqueTags, columns=uniqueTags).fillna(0)\n",
        "  B = pd.DataFrame(index=uniqueTags, columns=uniqueWords).fillna(0)\n",
        "\n",
        "  # dict for every tag and its initial probability\n",
        "  Pi = dict.fromkeys(list(uniqueTags),0)\n",
        "\n",
        "  for j in range(1, number_of_sentences+1):\n",
        "    currentSentenceTags = data.loc[(j)][POS]\n",
        "    currentSentenceWords = data.loc[(j)][WORD]\n",
        "    \n",
        "    update_B(B, currentSentenceWords, currentSentenceTags)\n",
        "\n",
        "    for i in range(1, len(currentSentenceTags)+1):\n",
        "\n",
        "      if i == 1:\n",
        "        currentTag = currentSentenceTags[i]\n",
        "        updatePi(Pi, currentTag)\n",
        "      else:\n",
        "        update_A(A, i, currentSentenceTags)\n",
        "\n",
        "  A[\"sum\"] = A.sum(axis=1)\n",
        "  A = A.loc[:, A.columns != 'sum'].div(A[\"sum\"], axis=0)\n",
        "\n",
        "  B[\"sum\"] = B.sum(axis=1)\n",
        "  B = B.loc[:, B.columns != 'sum'].div(B[\"sum\"], axis=0)\n",
        "  \n",
        "  for tag in Pi.keys():\n",
        "     Pi[tag] /= number_of_sentences\n",
        "\n",
        "  return A, B, Pi"
      ],
      "execution_count": null,
      "outputs": []
    },
    {
      "cell_type": "code",
      "metadata": {
        "id": "PK6tc_ghMkcX"
      },
      "source": [
        "def wordsToIdx(words, B_columns):\n",
        "    columns_as_list = list(B_columns)\n",
        "    wordsAsIdxSegment = []\n",
        "    \n",
        "    for word in words:\n",
        "        wordsAsIdxSegment.append(columns_as_list.index(word))\n",
        "\n",
        "    return wordsAsIdxSegment"
      ],
      "execution_count": null,
      "outputs": []
    },
    {
      "cell_type": "code",
      "metadata": {
        "id": "jPrgOQgTMoXd"
      },
      "source": [
        "def segmentOfWordsToSentencePrediction(self, segment, sentencePredict, last=False):\n",
        "    if segment:\n",
        "        segmentIdx = wordsToIdx(segment, self.B.columns)\n",
        "        segmentPredict = viterbi(segmentIdx, self.A, self.B, self.Pi)\n",
        "        sentencePredict += segmentPredict\n",
        "\n",
        "    if not last:\n",
        "        random_tag = np.random.choice(self.A.index)\n",
        "        sentencePredict.append(random_tag)"
      ],
      "execution_count": null,
      "outputs": []
    },
    {
      "cell_type": "code",
      "metadata": {
        "id": "TpH7GuiQ9L6W"
      },
      "source": [
        "class hmm_tagger:\n",
        "  def __init__(self):\n",
        "    self.uniqueWordsArr = []\n",
        "    self.A = []\n",
        "    self.B = []\n",
        "    self.Pi = {}\n",
        "\n",
        "\n",
        "  def train(self, data):\n",
        "    self.A, self.B, self.Pi = calc_A_B_Pi(data)\n",
        "    self.uniqueWordsArr = list(self.B.columns)\n",
        "\n",
        "\n",
        "  def evaluate(self, data):\n",
        "        total_words_hits = 0\n",
        "        sentence_hits = 0 # number of sentences in which all words are correctly classified\n",
        "        number_of_words_with_duplicates = len(data[WORD])\n",
        "        sentences = get_list_of_sentences(data)\n",
        "        \n",
        "        for i, sentence in enumerate(sentences, 1): # index starts at 1 because that's how the dataframe works\n",
        "            # check every word and sentence's accuracy\n",
        "            sentence_in_df = data.loc[(i)]\n",
        "            words = sentence.split()\n",
        "            words_hits = 0\n",
        "            sentenceIdx = []\n",
        "\n",
        "            for word in words:\n",
        "              if word in self.uniqueWordsArr:\n",
        "                wordIdx = list(self.B).index(word)\n",
        "                sentenceIdx.append(wordIdx)\n",
        "              else:\n",
        "                randomTagIdx = np.random.randint(len(self.uniqueWordsArr))\n",
        "                sentenceIdx.append(randomTagIdx)\n",
        "        \n",
        "            sentencePredict = viterbi(sentenceIdx, self.A, self.B, self.Pi)\n",
        "\n",
        "            for j, word in enumerate(words, 0):\n",
        "                actual_tag = sentence_in_df[sentence_in_df[WORD] == word][POS].values[0]\n",
        "                \n",
        "                predicted_tag = sentencePredict[j]\n",
        "                \n",
        "                if actual_tag == predicted_tag:\n",
        "                    words_hits += 1\n",
        "\n",
        "            total_words_hits += words_hits\n",
        "\n",
        "            if words_hits == len(words):\n",
        "                sentence_hits += 1\n",
        "\n",
        "        word_level_accuracy = round(total_words_hits / number_of_words_with_duplicates *100, 4)\n",
        "        sentence_level_accuracy = round(sentence_hits / len(sentences) *100, 4)\n",
        "        \n",
        "        return word_level_accuracy, sentence_level_accuracy"
      ],
      "execution_count": null,
      "outputs": []
    },
    {
      "cell_type": "code",
      "metadata": {
        "id": "_Q507ZGCMrK-"
      },
      "source": [
        "def findBestTag(delta_df, t):\n",
        "    maxValue = 0\n",
        "    bestTag = ''\n",
        "\n",
        "    for tag in delta_df.index:\n",
        "        currentValue =delta_df.loc[tag, t]\n",
        "        \n",
        "        if currentValue > maxValue:\n",
        "            maxValue = currentValue\n",
        "            bestTag = tag\n",
        "    \n",
        "    return bestTag"
      ],
      "execution_count": null,
      "outputs": []
    },
    {
      "cell_type": "code",
      "metadata": {
        "id": "DR6KJW2F9yqt"
      },
      "source": [
        "# Viterbi\n",
        "def viterbi (observations, A, B, Pi):\n",
        "  #...\n",
        "# creates variables\n",
        "  delta_df = pd.DataFrame(index=B.index, columns=np.arange(len(observations))).fillna(0) \n",
        "  psi_df = pd.DataFrame(index=B.index, columns=np.arange(len(observations))).fillna(0)\n",
        "  best_sequence = [0]*len(observations)\n",
        "  \n",
        "  firstObserv = observations[0]\n",
        "  listOfWords = list(B.columns)\n",
        "  firstObservWord = listOfWords[firstObserv]\n",
        "\n",
        "# initializtion step\n",
        "  for tag in delta_df.index:\n",
        "    b = B.loc[tag, firstObservWord]\n",
        "    delta_df.loc[tag, 0] = b*Pi[tag]\n",
        "    psi_df.loc[tag, 0] = 0\n",
        "\n",
        "# iteration step\n",
        "  for observIdx, currentObserv in enumerate(observations[1:], 1):\n",
        "    currentObservWord = listOfWords[currentObserv]\n",
        "    valuesToTakeMax = []\n",
        "\n",
        "    maxValue = 0\n",
        "    bestTagForMaxValue = ''\n",
        "\n",
        "    for tag in delta_df.index:\n",
        "      b = B.loc[tag, currentObservWord]\n",
        "\n",
        "      for tag2 in delta_df.index:\n",
        "        currentValue = delta_df.loc[tag2, observIdx-1] * A.loc[tag2, tag]\n",
        "\n",
        "        if currentValue > maxValue:\n",
        "          maxValue = currentValue\n",
        "          bestTagForMaxValue = tag2\n",
        "          \n",
        "      delta_df.loc[tag, observIdx] = maxValue*b\n",
        "      psi_df.loc[tag, observIdx] = bestTagForMaxValue\n",
        "\n",
        "\n",
        "# sequence recovery\n",
        "  t = len(observations)-1\n",
        "  best_sequence[t] = findBestTag(delta_df, t)\n",
        "\n",
        "  for t in range(len(observations)-2, -1, -1):\n",
        "    best_sequence[t] = psi_df.loc[best_sequence[t+1], t+1]\n",
        "\n",
        "  return best_sequence\n",
        "\n",
        "# A simple example to run the Viterbi algorithm:\n",
        "#( Same as in presentation \"NLP 3 - Tagging\" on slide 35)\n",
        "\n",
        "# A = np.array([[0.3, 0.7], [0.2, 0.8]])\n",
        "# B = np.array([[0.1, 0.1, 0.3, 0.5], [0.3, 0.3, 0.2, 0.2]])\n",
        "# Pi = np.array([0.4, 0.6])\n",
        "# print(viterbi([0, 3, 1, 0], A, B, Pi))\n",
        "# Expected output: 1, 1, 1, 1"
      ],
      "execution_count": null,
      "outputs": []
    },
    {
      "cell_type": "code",
      "metadata": {
        "id": "b6THZx0RFkXM"
      },
      "source": [
        "hmmTagger = hmm_tagger()"
      ],
      "execution_count": null,
      "outputs": []
    },
    {
      "cell_type": "code",
      "metadata": {
        "id": "eoYe08FJFoAZ"
      },
      "source": [
        "hmmTagger.train(train_df)"
      ],
      "execution_count": null,
      "outputs": []
    },
    {
      "cell_type": "code",
      "metadata": {
        "id": "pXjdOKZAMzNt"
      },
      "source": [
        "hmm_word_level_accuracy_test, hmm_sentence_level_accuracy_test = hmmTagger.evaluate(test_df)\n",
        "hmm_word_level_accuracy_dev, hmm_sentence_level_accuracy_dev = hmmTagger.evaluate(dev_df)"
      ],
      "execution_count": null,
      "outputs": []
    },
    {
      "cell_type": "code",
      "metadata": {
        "colab": {
          "base_uri": "https://localhost:8080/"
        },
        "id": "tSC5-5OEM1CN",
        "outputId": "8e2e358d-4de1-45e6-c6b9-e7d693a2a4ad"
      },
      "source": [
        "print(f'*test* data: word accuracy = {hmm_word_level_accuracy_test} %, sentence accuracy = {hmm_sentence_level_accuracy_test} %')\n",
        "print(f'*dev* data: word accuracy = {hmm_word_level_accuracy_dev} %, sentence accuracy = {hmm_sentence_level_accuracy_dev} %')"
      ],
      "execution_count": null,
      "outputs": [
        {
          "output_type": "stream",
          "text": [
            "*test* data: word accuracy = 81.5522 %, sentence accuracy = 12.809 %\n",
            "*dev* data: word accuracy = 83.4658 %, sentence accuracy = 11.2245 %\n"
          ],
          "name": "stdout"
        }
      ]
    },
    {
      "cell_type": "markdown",
      "metadata": {
        "id": "-YZO0uGL-4S-"
      },
      "source": [
        "---\n",
        "**Part 4**\n",
        "\n",
        "Compare the results obtained from both taggers and a MEMM tagger, implemented by NLTK (a known NLP library), over both, the dev and test datasets. To train the NLTK MEMM tagger you should execute the following lines (it may take some time to train...):"
      ]
    },
    {
      "cell_type": "code",
      "metadata": {
        "colab": {
          "base_uri": "https://localhost:8080/"
        },
        "id": "jAkcbu_63mqF",
        "outputId": "99ff322b-5b24-4c2c-9f60-4f9aba38d4c5"
      },
      "source": [
        "!pip install pyconll\n",
        "import pyconll"
      ],
      "execution_count": null,
      "outputs": [
        {
          "output_type": "stream",
          "text": [
            "Collecting pyconll\n",
            "  Downloading https://files.pythonhosted.org/packages/60/7f/148a5b6f99b8a22373bfbcafd9d6776278fec14810ae95c4fe37965f6619/pyconll-3.0.4-py3-none-any.whl\n",
            "Installing collected packages: pyconll\n",
            "Successfully installed pyconll-3.0.4\n"
          ],
          "name": "stdout"
        }
      ]
    },
    {
      "cell_type": "code",
      "metadata": {
        "id": "_YqavdZUHhlQ"
      },
      "source": [
        "def parse_data(data):\n",
        "    '''\n",
        "    Convert the data to the correct form i.e tuples of (word, upos) in a list per word in sentence, per sentence in data\n",
        "    '''\n",
        "    parsed_data = []\n",
        "\n",
        "    for sentence in data:\n",
        "        parsed_sentence = [(token.form, token.upos) for token in sentence]\n",
        "        parsed_data += [parsed_sentence]\n",
        "\n",
        "    return parsed_data"
      ],
      "execution_count": null,
      "outputs": []
    },
    {
      "cell_type": "code",
      "metadata": {
        "id": "PaBVbutW3K_g"
      },
      "source": [
        "train = pyconll.load_from_file(train_file)\n",
        "test = pyconll.load_from_file(test_file)\n",
        "dev = pyconll.load_from_file(dev_file)\n",
        "\n",
        "train_data = parse_data(train)\n",
        "test_data = parse_data(test)\n",
        "dev_data = parse_data(dev)"
      ],
      "execution_count": null,
      "outputs": []
    },
    {
      "cell_type": "code",
      "metadata": {
        "id": "KYhtboJm_Iyx"
      },
      "source": [
        "from nltk.tag import tnt \n",
        "\n",
        "tnt_pos_tagger = tnt.TnT()\n",
        "tnt_pos_tagger.train(train_data)\n",
        "\n",
        "memm_word_level_accuracy_test = round(tnt_pos_tagger.evaluate(test_data) * 100, 4)\n",
        "memm_word_level_accuracy_dev = round(tnt_pos_tagger.evaluate(dev_data) * 100, 4)"
      ],
      "execution_count": null,
      "outputs": []
    },
    {
      "cell_type": "markdown",
      "metadata": {
        "id": "5DIvvzsq_U-o"
      },
      "source": [
        "Print both, word level and sentence level accuracy for all the three taggers in a table."
      ]
    },
    {
      "cell_type": "code",
      "metadata": {
        "id": "V32202cikh7u"
      },
      "source": [
        "def evaluate_memm(tagger, data):\n",
        "    sentence_hits = 0 # number of sentences in which all words are correctly classified\n",
        "\n",
        "    for sentence_items in data:\n",
        "        word_hits = 0\n",
        "        sentence = [item[0] for item in sentence_items]\n",
        "        state_seq = tagger.tag(sentence)\n",
        "\n",
        "        for predicted_tag, actual_tag in zip(state_seq, sentence_items):\n",
        "            word_hits += 1 if predicted_tag[1] == actual_tag[1] else 0\n",
        "\n",
        "        if word_hits == len(sentence):\n",
        "            sentence_hits += 1\n",
        "\n",
        "    sentence_level_accuracy = round(sentence_hits / len(data) * 100, 4)\n",
        "\n",
        "    return sentence_level_accuracy"
      ],
      "execution_count": null,
      "outputs": []
    },
    {
      "cell_type": "code",
      "metadata": {
        "id": "filJBlcwFEj9"
      },
      "source": [
        "memm_sentence_level_accuracy_test = evaluate_memm(tnt_pos_tagger, test_data)\n",
        "memm_sentence_level_accuracy_dev = evaluate_memm(tnt_pos_tagger, dev_data)"
      ],
      "execution_count": null,
      "outputs": []
    },
    {
      "cell_type": "code",
      "metadata": {
        "colab": {
          "base_uri": "https://localhost:8080/"
        },
        "id": "SZQsdpBjIkF0",
        "outputId": "779b2094-beb8-49ea-89f7-eb8ae3c376b1"
      },
      "source": [
        "print(f'*test* data: word accuracy = {memm_word_level_accuracy_test} %, sentence accuracy = {memm_sentence_level_accuracy_test} %')\n",
        "print(f'*dev* data: word accuracy = {memm_word_level_accuracy_dev} %, sentence accuracy = {memm_sentence_level_accuracy_dev} %')"
      ],
      "execution_count": null,
      "outputs": [
        {
          "output_type": "stream",
          "text": [
            "*test* data: word accuracy = 80.2336 %, sentence accuracy = 12.3596 %\n",
            "*dev* data: word accuracy = 82.7863 %, sentence accuracy = 12.7551 %\n"
          ],
          "name": "stdout"
        }
      ]
    },
    {
      "cell_type": "code",
      "metadata": {
        "colab": {
          "base_uri": "https://localhost:8080/",
          "height": 136
        },
        "id": "A4PsFRQYAFIp",
        "outputId": "7892117a-71ad-4e37-e905-ec89bdad469b"
      },
      "source": [
        "pd.DataFrame([\n",
        "                [simple_tagger_word_level_accuracy_test, simple_tagger_sentence_level_accuracy_test, simple_tagger_word_level_accuracy_dev, simple_tagger_sentence_level_accuracy_dev],\n",
        "                [hmm_word_level_accuracy_test, hmm_sentence_level_accuracy_test, hmm_word_level_accuracy_dev, hmm_sentence_level_accuracy_dev], \n",
        "                [memm_word_level_accuracy_test, memm_sentence_level_accuracy_test, memm_word_level_accuracy_dev, memm_sentence_level_accuracy_dev]\n",
        "], columns=['word accuracy (test)', 'sentence accuracy (test)', 'word accuracy (dev)', 'sentence accuracy (dev)'], index=['Simple', 'HMM', 'MEMM'])"
      ],
      "execution_count": null,
      "outputs": [
        {
          "output_type": "execute_result",
          "data": {
            "text/html": [
              "<div>\n",
              "<style scoped>\n",
              "    .dataframe tbody tr th:only-of-type {\n",
              "        vertical-align: middle;\n",
              "    }\n",
              "\n",
              "    .dataframe tbody tr th {\n",
              "        vertical-align: top;\n",
              "    }\n",
              "\n",
              "    .dataframe thead th {\n",
              "        text-align: right;\n",
              "    }\n",
              "</style>\n",
              "<table border=\"1\" class=\"dataframe\">\n",
              "  <thead>\n",
              "    <tr style=\"text-align: right;\">\n",
              "      <th></th>\n",
              "      <th>word accuracy (test)</th>\n",
              "      <th>sentence accuracy (test)</th>\n",
              "      <th>word accuracy (dev)</th>\n",
              "      <th>sentence accuracy (dev)</th>\n",
              "    </tr>\n",
              "  </thead>\n",
              "  <tbody>\n",
              "    <tr>\n",
              "      <th>Simple</th>\n",
              "      <td>84.6038</td>\n",
              "      <td>19.1011</td>\n",
              "      <td>85.6520</td>\n",
              "      <td>15.8163</td>\n",
              "    </tr>\n",
              "    <tr>\n",
              "      <th>HMM</th>\n",
              "      <td>81.5522</td>\n",
              "      <td>12.8090</td>\n",
              "      <td>83.4658</td>\n",
              "      <td>11.2245</td>\n",
              "    </tr>\n",
              "    <tr>\n",
              "      <th>MEMM</th>\n",
              "      <td>80.2336</td>\n",
              "      <td>12.3596</td>\n",
              "      <td>82.7863</td>\n",
              "      <td>12.7551</td>\n",
              "    </tr>\n",
              "  </tbody>\n",
              "</table>\n",
              "</div>"
            ],
            "text/plain": [
              "        word accuracy (test)  ...  sentence accuracy (dev)\n",
              "Simple               84.6038  ...                  15.8163\n",
              "HMM                  81.5522  ...                  11.2245\n",
              "MEMM                 80.2336  ...                  12.7551\n",
              "\n",
              "[3 rows x 4 columns]"
            ]
          },
          "metadata": {
            "tags": []
          },
          "execution_count": 46
        }
      ]
    },
    {
      "cell_type": "code",
      "metadata": {
        "id": "CK_cU70zUoxM"
      },
      "source": [
        ""
      ],
      "execution_count": null,
      "outputs": []
    }
  ]
}